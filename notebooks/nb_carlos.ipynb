{
 "cells": [
  {
   "cell_type": "code",
   "execution_count": 1,
   "metadata": {},
   "outputs": [],
   "source": [
    "%load_ext autoreload\n",
    "%autoreload 2\n",
    "%matplotlib tk"
   ]
  },
  {
   "cell_type": "code",
   "execution_count": 2,
   "metadata": {},
   "outputs": [],
   "source": [
    "import os\n",
    "import numpy as np\n",
    "import matplotlib.pyplot as plt\n",
    "import scipy as sp\n",
    "os.chdir('/home/maestria/Documentos/FEM/')"
   ]
  },
  {
   "cell_type": "code",
   "execution_count": 3,
   "metadata": {},
   "outputs": [],
   "source": [
    "from src.mesh import read_msh\n",
    "from src.quadrature import *\n",
    "from src.finite_elements import FEM_Equation_Solver,Heat_Equation_Solver"
   ]
  },
  {
   "cell_type": "code",
   "execution_count": 4,
   "metadata": {},
   "outputs": [
    {
     "name": "stdout",
     "output_type": "stream",
     "text": [
      "Mesh name: /home/maestria/Documentos/FEM/data/L2.msh\n",
      "Mesh version: 4.1\n",
      "Number of nodes: 1045\n",
      "Minimum node tag: 1\n",
      "Maximum node tag: 1045\n",
      "Number of node entities: 19\n",
      "Number of elements: 575\n",
      "Minimum element tag: 1\n",
      "Maximum element tag: 1709\n",
      "Number of element entities: 19\n"
     ]
    }
   ],
   "source": [
    "node_coordinates, connection_table,dirichlet_nodes = read_msh('/home/maestria/Documentos/FEM/data/L2.msh')\n",
    "x1 = 1.0\n",
    "y1 = 1.0\n",
    "x_coordinates = node_coordinates[:, 0]\n",
    "y_coordinates = node_coordinates[:, 1]\n",
    "not_boundary = (x_coordinates == x1) & (y_coordinates < y1) & (y_coordinates > 0.0)\n",
    "not_boundary_idx = set(np.array(range(len(not_boundary)))[not_boundary])\n",
    "dirichlet_nodes= list(set(dirichlet_nodes) - not_boundary_idx)\n",
    "\n",
    "#fem_solver = FEM_Equation_Solver(node_coordinates, connection_table,dirichlet_nodes)"
   ]
  },
  {
   "cell_type": "code",
   "execution_count": 10,
   "metadata": {},
   "outputs": [],
   "source": [
    "def u0(x,y):\n",
    "    return 0.0\n",
    "\n",
    "def f_function(t,x,y):\n",
    "    #return 1.0\n",
    "    if (x-0.5)**2 +(y-1.5)**2 < 0.25**2:\n",
    "        return 1.0\n",
    "    else:\n",
    "        return 0.0\n",
    "f_function_vec=np.vectorize(f_function,excluded=[0])\n",
    "dt=0.01\n",
    "T_fin=1.0\n",
    "heat_solver=Heat_Equation_Solver(node_coordinates,connection_table,dirichlet_nodes,u0,dt,T_fin,f_function_vec)"
   ]
  },
  {
   "cell_type": "code",
   "execution_count": 9,
   "metadata": {},
   "outputs": [],
   "source": [
    "heat_solver.fem_solver.plot_solution(solution[1])"
   ]
  },
  {
   "cell_type": "code",
   "execution_count": 11,
   "metadata": {},
   "outputs": [
    {
     "name": "stdout",
     "output_type": "stream",
     "text": [
      "0.004115226337452122\n",
      "0.19415218837224638\n",
      "0.004115226337452122\n",
      "3699.1594265564004\n",
      "0.004115226337452122\n",
      "71439153.76666899\n",
      "0.004115226337452122\n",
      "1549669937036.797\n",
      "0.004115226337452122\n",
      "3.186446716828539e+16\n",
      "0.004115226337452122\n",
      "7.012572698728972e+20\n",
      "0.004115226337452122\n",
      "1.4734569440852174e+25\n",
      "0.004115226337452122\n",
      "3.2412131773407165e+29\n",
      "0.004115226337452122\n",
      "6.88240389958596e+33\n"
     ]
    },
    {
     "ename": "KeyboardInterrupt",
     "evalue": "",
     "output_type": "error",
     "traceback": [
      "\u001b[0;31m---------------------------------------------------------------------------\u001b[0m",
      "\u001b[0;31mKeyboardInterrupt\u001b[0m                         Traceback (most recent call last)",
      "Cell \u001b[0;32mIn[11], line 1\u001b[0m\n\u001b[0;32m----> 1\u001b[0m solution\u001b[39m=\u001b[39mheat_solver\u001b[39m.\u001b[39;49msolve()\n",
      "File \u001b[0;32m~/Documentos/FEM/src/finite_elements.py:218\u001b[0m, in \u001b[0;36mHeat_Equation_Solver.solve\u001b[0;34m(self)\u001b[0m\n\u001b[1;32m    216\u001b[0m \u001b[39mdef\u001b[39;00m \u001b[39mf_i\u001b[39m(x,y):\n\u001b[1;32m    217\u001b[0m     \u001b[39mreturn\u001b[39;00m \u001b[39mself\u001b[39m\u001b[39m.\u001b[39mf_function(t,x,y)\n\u001b[0;32m--> 218\u001b[0m f_pt\u001b[39m=\u001b[39m\u001b[39mself\u001b[39;49m\u001b[39m.\u001b[39;49mfem_solver\u001b[39m.\u001b[39;49massembly_load_vector(f_i)\n\u001b[1;32m    219\u001b[0m \u001b[39mprint\u001b[39m(np\u001b[39m.\u001b[39mmax(f_pt))\n\u001b[1;32m    220\u001b[0m unew\u001b[39m=\u001b[39m\u001b[39mself\u001b[39m\u001b[39m.\u001b[39mfem_solver\u001b[39m.\u001b[39mstiffness_I\u001b[39m.\u001b[39msolve(\u001b[39m-\u001b[39m(solution[\u001b[39m-\u001b[39m\u001b[39m1\u001b[39m]\u001b[39m/\u001b[39m\u001b[39mself\u001b[39m\u001b[39m.\u001b[39mdt)\u001b[39m-\u001b[39mf_pt)\n",
      "File \u001b[0;32m~/Documentos/FEM/src/finite_elements.py:129\u001b[0m, in \u001b[0;36mFEM_Equation_Solver.assembly_load_vector\u001b[0;34m(self, f_i)\u001b[0m\n\u001b[1;32m    127\u001b[0m \u001b[39mfor\u001b[39;00m i \u001b[39min\u001b[39;00m \u001b[39mrange\u001b[39m(\u001b[39mlen\u001b[39m(\u001b[39mself\u001b[39m\u001b[39m.\u001b[39mconnection_table)):\n\u001b[1;32m    128\u001b[0m     node_coor\u001b[39m=\u001b[39m\u001b[39mself\u001b[39m\u001b[39m.\u001b[39mnode_coordinates[\u001b[39mself\u001b[39m\u001b[39m.\u001b[39mconnection_table[i]]\n\u001b[0;32m--> 129\u001b[0m     indbe,databe\u001b[39m=\u001b[39m\u001b[39mself\u001b[39;49m\u001b[39m.\u001b[39;49mget_elemental_load_vector(\u001b[39mself\u001b[39;49m\u001b[39m.\u001b[39;49mbasis_coeff[i],\u001b[39mself\u001b[39;49m\u001b[39m.\u001b[39;49mconnection_table[i],node_coor[:\u001b[39m3\u001b[39;49m],f_i)\n\u001b[1;32m    130\u001b[0m     \u001b[39mfor\u001b[39;00m i \u001b[39min\u001b[39;00m \u001b[39mrange\u001b[39m(\u001b[39mlen\u001b[39m(indbe)):\n\u001b[1;32m    131\u001b[0m         b[indbe[i]]\u001b[39m+\u001b[39m\u001b[39m=\u001b[39mdatabe[i]\n",
      "File \u001b[0;32m~/Documentos/FEM/src/finite_elements.py:122\u001b[0m, in \u001b[0;36mFEM_Equation_Solver.get_elemental_load_vector\u001b[0;34m(self, basis_coeff, element_nodes, vertex_coordinates, f_i)\u001b[0m\n\u001b[1;32m    114\u001b[0m \u001b[39m    \u001b[39m\u001b[39m\"\"\"\u001b[39;00m\n\u001b[1;32m    115\u001b[0m \u001b[39m    def f_b(x,y):\u001b[39;00m\n\u001b[1;32m    116\u001b[0m \u001b[39m        t1=(basis_coeff[i][0]*x+\u001b[39;00m\n\u001b[0;32m   (...)\u001b[0m\n\u001b[1;32m    119\u001b[0m \u001b[39m        return t1*self.f(x,y)\u001b[39;00m\n\u001b[1;32m    120\u001b[0m \u001b[39m    \"\"\"\u001b[39;00m\n\u001b[1;32m    121\u001b[0m     ind\u001b[39m.\u001b[39mappend(element_nodes[i])\n\u001b[0;32m--> 122\u001b[0m     data\u001b[39m.\u001b[39mappend(triangle_cuadrature(f_b,vertex_coordinates[:\u001b[39m3\u001b[39;49m]))\n\u001b[1;32m    123\u001b[0m \u001b[39mreturn\u001b[39;00m ind,data\n",
      "File \u001b[0;32m~/Documentos/FEM/src/quadrature.py:25\u001b[0m, in \u001b[0;36mtriangle_cuadrature\u001b[0;34m(f, vertex)\u001b[0m\n\u001b[1;32m     23\u001b[0m points_x,points_y\u001b[39m=\u001b[39mnp\u001b[39m.\u001b[39mdot(A,points)\u001b[39m+\u001b[39mnp\u001b[39m.\u001b[39mtile(vertex[\u001b[39m0\u001b[39m],(points\u001b[39m.\u001b[39mshape[\u001b[39m1\u001b[39m],\u001b[39m1\u001b[39m))\u001b[39m.\u001b[39mT\n\u001b[1;32m     24\u001b[0m f_points\u001b[39m=\u001b[39mf(points_x,points_y)\n\u001b[0;32m---> 25\u001b[0m \u001b[39mreturn\u001b[39;00m np\u001b[39m.\u001b[39mabs(np\u001b[39m.\u001b[39mlinalg\u001b[39m.\u001b[39mdet(A))\u001b[39m*\u001b[39mnp\u001b[39m.\u001b[39;49msum(weigths\u001b[39m*\u001b[39;49mf_points)\u001b[39m/\u001b[39m\u001b[39m2.0\u001b[39m\n",
      "File \u001b[0;32m<__array_function__ internals>:200\u001b[0m, in \u001b[0;36msum\u001b[0;34m(*args, **kwargs)\u001b[0m\n",
      "File \u001b[0;32m~/.local/lib/python3.10/site-packages/numpy/core/fromnumeric.py:2324\u001b[0m, in \u001b[0;36msum\u001b[0;34m(a, axis, dtype, out, keepdims, initial, where)\u001b[0m\n\u001b[1;32m   2321\u001b[0m         \u001b[39mreturn\u001b[39;00m out\n\u001b[1;32m   2322\u001b[0m     \u001b[39mreturn\u001b[39;00m res\n\u001b[0;32m-> 2324\u001b[0m \u001b[39mreturn\u001b[39;00m _wrapreduction(a, np\u001b[39m.\u001b[39;49madd, \u001b[39m'\u001b[39;49m\u001b[39msum\u001b[39;49m\u001b[39m'\u001b[39;49m, axis, dtype, out, keepdims\u001b[39m=\u001b[39;49mkeepdims,\n\u001b[1;32m   2325\u001b[0m                       initial\u001b[39m=\u001b[39;49minitial, where\u001b[39m=\u001b[39;49mwhere)\n",
      "File \u001b[0;32m~/.local/lib/python3.10/site-packages/numpy/core/fromnumeric.py:86\u001b[0m, in \u001b[0;36m_wrapreduction\u001b[0;34m(obj, ufunc, method, axis, dtype, out, **kwargs)\u001b[0m\n\u001b[1;32m     83\u001b[0m         \u001b[39melse\u001b[39;00m:\n\u001b[1;32m     84\u001b[0m             \u001b[39mreturn\u001b[39;00m reduction(axis\u001b[39m=\u001b[39maxis, out\u001b[39m=\u001b[39mout, \u001b[39m*\u001b[39m\u001b[39m*\u001b[39mpasskwargs)\n\u001b[0;32m---> 86\u001b[0m \u001b[39mreturn\u001b[39;00m ufunc\u001b[39m.\u001b[39;49mreduce(obj, axis, dtype, out, \u001b[39m*\u001b[39;49m\u001b[39m*\u001b[39;49mpasskwargs)\n",
      "\u001b[0;31mKeyboardInterrupt\u001b[0m: "
     ]
    }
   ],
   "source": [
    "solution=heat_solver.solve()"
   ]
  },
  {
   "cell_type": "code",
   "execution_count": 35,
   "metadata": {},
   "outputs": [
    {
     "data": {
      "text/plain": [
       "<matplotlib.widgets.Slider at 0x7f0ff0e27220>"
      ]
     },
     "execution_count": 35,
     "metadata": {},
     "output_type": "execute_result"
    }
   ],
   "source": [
    "heat_solver.plot_solution(solution)"
   ]
  },
  {
   "cell_type": "code",
   "execution_count": 36,
   "metadata": {},
   "outputs": [
    {
     "data": {
      "text/plain": [
       "4642424699235543.0"
      ]
     },
     "execution_count": 36,
     "metadata": {},
     "output_type": "execute_result"
    }
   ],
   "source": [
    "np.max(solution[-1])"
   ]
  },
  {
   "cell_type": "code",
   "execution_count": 16,
   "metadata": {},
   "outputs": [],
   "source": [
    "mat,b=fem_solver.assembly_stiffness_matrix_and_load_vector()\n",
    "Zs=sp.sparse.linalg.spsolve(mat,b)"
   ]
  },
  {
   "cell_type": "code",
   "execution_count": 17,
   "metadata": {},
   "outputs": [],
   "source": [
    "fem_solver.plot_solution(Zs)"
   ]
  },
  {
   "cell_type": "code",
   "execution_count": 19,
   "metadata": {},
   "outputs": [],
   "source": [
    "A=mat.toarray()"
   ]
  },
  {
   "cell_type": "code",
   "execution_count": 20,
   "metadata": {},
   "outputs": [
    {
     "data": {
      "text/plain": [
       "array([ 0.0000000e+00,  0.0000000e+00,  0.0000000e+00,  0.0000000e+00,\n",
       "        0.0000000e+00, -1.0000000e+00,  0.0000000e+00,  0.0000000e+00,\n",
       "       -1.0000000e+00,  4.0000000e+00, -1.0000000e+00,  0.0000000e+00,\n",
       "        0.0000000e+00, -1.0000000e+00,  9.0231526e-13,  0.0000000e+00])"
      ]
     },
     "execution_count": 20,
     "metadata": {},
     "output_type": "execute_result"
    }
   ],
   "source": [
    "A[9]"
   ]
  },
  {
   "cell_type": "code",
   "execution_count": 21,
   "metadata": {},
   "outputs": [
    {
     "data": {
      "text/plain": [
       "array([ 0.00000000e+00,  1.44444444e+00,  5.11111111e+00,  1.10000000e+01,\n",
       "       -8.32334202e-13, -2.88888889e+00, -2.88888889e+00,  1.06666667e+01,\n",
       "        6.66666667e-01, -2.88888889e+00, -2.88888889e+00,  1.10000000e+01,\n",
       "        2.00000000e+00,  3.11111111e+00,  6.44444444e+00,  1.20000000e+01])"
      ]
     },
     "execution_count": 21,
     "metadata": {},
     "output_type": "execute_result"
    }
   ],
   "source": [
    "b"
   ]
  },
  {
   "cell_type": "code",
   "execution_count": 8,
   "metadata": {},
   "outputs": [
    {
     "data": {
      "text/plain": [
       "<matplotlib.lines.Line2D at 0x7fca46b41540>"
      ]
     },
     "execution_count": 8,
     "metadata": {},
     "output_type": "execute_result"
    },
    {
     "data": {
      "image/png": "[encoded data removed]",
      "text/plain": [
       "<Figure size 640x480 with 1 Axes>"
      ]
     },
     "metadata": {},
     "output_type": "display_data"
    }
   ],
   "source": [
    "plt.spy(mat)"
   ]
  },
  {
   "cell_type": "code",
   "execution_count": 22,
   "metadata": {},
   "outputs": [
    {
     "data": {
      "text/plain": [
       "0.01188843164156591"
      ]
     },
     "execution_count": 22,
     "metadata": {},
     "output_type": "execute_result"
    }
   ],
   "source": [
    "np.max(b)"
   ]
  },
  {
   "cell_type": "code",
   "execution_count": 25,
   "metadata": {},
   "outputs": [
    {
     "name": "stderr",
     "output_type": "stream",
     "text": [
      "/home/maestria/.local/lib/python3.10/site-packages/scipy/sparse/linalg/_dsolve/linsolve.py:214: SparseEfficiencyWarning: spsolve requires A be CSC or CSR matrix format\n",
      "  warn('spsolve requires A be CSC or CSR matrix format',\n"
     ]
    },
    {
     "data": {
      "text/plain": [
       "array([1.12253231e+13, 1.12253231e+13, 1.12253231e+13, ...,\n",
       "       1.12253231e+13, 1.12253231e+13, 1.12253231e+13])"
      ]
     },
     "execution_count": 25,
     "metadata": {},
     "output_type": "execute_result"
    }
   ],
   "source": [
    "sp.sparse.linalg.spsolve(A,b)"
   ]
  },
  {
   "cell_type": "code",
   "execution_count": 24,
   "metadata": {},
   "outputs": [
    {
     "data": {
      "text/plain": [
       "array([1.10247237e+13, 1.10247237e+13, 1.10247237e+13, ...,\n",
       "       1.10247237e+13, 1.10247237e+13, 1.10247237e+13])"
      ]
     },
     "execution_count": 24,
     "metadata": {},
     "output_type": "execute_result"
    }
   ],
   "source": [
    "np.linalg.solve(A, b)"
   ]
  }
 ],
 "metadata": {
  "kernelspec": {
   "display_name": "Python 3",
   "language": "python",
   "name": "python3"
  },
  "language_info": {
   "codemirror_mode": {
    "name": "ipython",
    "version": 3
   },
   "file_extension": ".py",
   "mimetype": "text/x-python",
   "name": "python",
   "nbconvert_exporter": "python",
   "pygments_lexer": "ipython3",
   "version": "3.10.6"
  },
  "orig_nbformat": 4
 },
 "nbformat": 4,
 "nbformat_minor": 2
}
