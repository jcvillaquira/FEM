{
 "cells": [
  {
   "cell_type": "code",
   "execution_count": 1,
   "metadata": {},
   "outputs": [],
   "source": [
    "%load_ext autoreload\n",
    "%autoreload 2\n",
    "%matplotlib tk"
   ]
  },
  {
   "cell_type": "code",
   "execution_count": 2,
   "metadata": {},
   "outputs": [],
   "source": [
    "import os\n",
    "import numpy as np\n",
    "import matplotlib.pyplot as plt\n",
    "import scipy as sp\n",
    "#os.chdir('/home/maestria/Documentos/FEM/')\n",
    "os.chdir('/home/carlos/Documentos/FEM/')"
   ]
  },
  {
   "cell_type": "code",
   "execution_count": 3,
   "metadata": {},
   "outputs": [],
   "source": [
    "from src.mesh import read_msh\n",
    "from src.quadrature import *\n",
    "from src.finite_elements import FEM_Equation_Solver,Heat_Equation_Solver"
   ]
  },
  {
   "cell_type": "code",
   "execution_count": 13,
   "metadata": {},
   "outputs": [
    {
     "name": "stdout",
     "output_type": "stream",
     "text": [
      "Mesh name: /home/carlos/Documentos/FEM/data/L2.msh\n",
      "Mesh version: 4.1\n",
      "Number of nodes: 1045\n",
      "Minimum node tag: 1\n",
      "Maximum node tag: 1045\n",
      "Number of node entities: 19\n",
      "Number of elements: 575\n",
      "Minimum element tag: 1\n",
      "Maximum element tag: 1709\n",
      "Number of element entities: 19\n",
      "Element type: 15\n",
      "Element type: 15\n",
      "Element type: 15\n",
      "Element type: 15\n",
      "Element type: 15\n",
      "Element type: 15\n",
      "Element type: 15\n",
      "Element type: 15\n",
      "Element type: 8\n",
      "Element type: 8\n",
      "Element type: 8\n",
      "Element type: 8\n",
      "Element type: 8\n",
      "Element type: 8\n",
      "Element type: 8\n",
      "Element type: 8\n",
      "Element type: 8\n",
      "Element type: 9\n",
      "Element type: 9\n"
     ]
    },
    {
     "name": "stderr",
     "output_type": "stream",
     "text": [
      "/home/carlos/.local/lib/python3.8/site-packages/scipy/sparse/_index.py:146: SparseEfficiencyWarning: Changing the sparsity structure of a csr_matrix is expensive. lil_matrix is more efficient.\n",
      "  self._set_arrayXarray(i, j, x)\n",
      "/home/carlos/.local/lib/python3.8/site-packages/scipy/sparse/linalg/_dsolve/linsolve.py:394: SparseEfficiencyWarning: splu converted its input to CSC format\n",
      "  warn('splu converted its input to CSC format', SparseEfficiencyWarning)\n"
     ]
    }
   ],
   "source": [
    "node_coordinates, connection_table,dirichlet_nodes = read_msh('/home/carlos/Documentos/FEM/data/L2.msh')\n",
    "\n",
    "x1 = 1.0\n",
    "y1 = 1.0\n",
    "x_coordinates = node_coordinates[:, 0]\n",
    "y_coordinates = node_coordinates[:, 1]\n",
    "not_boundary = (x_coordinates == x1) & (y_coordinates < y1) & (y_coordinates > 0.0)\n",
    "not_boundary_idx = set(np.array(range(len(not_boundary)))[not_boundary])\n",
    "dirichlet_nodes= list(set(dirichlet_nodes) - not_boundary_idx)\n",
    "\n",
    "new_boundary= (x_coordinates == 2.0)\n",
    "new_boundary_idx= set(np.array(range(len(new_boundary)))[new_boundary])\n",
    "dirichlet_nodes=new_boundary_idx\n",
    "\n",
    "def c(x,y):\n",
    "    return 0.0\n",
    "def f(x,y):\n",
    "    return 26.0\n",
    "\n",
    "fem_solver = FEM_Equation_Solver(node_coordinates, connection_table,dirichlet_nodes,c,f)"
   ]
  },
  {
   "cell_type": "code",
   "execution_count": 50,
   "metadata": {},
   "outputs": [],
   "source": [
    "def u0(x,y):\n",
    "    if (x-0.5)**2 +(y-1.5)**2 < 0.25**2:\n",
    "        return 1.0\n",
    "    else:\n",
    "        return 0.0\n",
    "\n",
    "def f_function(t,x,y):\n",
    "    #return 0.0\n",
    "    if (x-0.5)**2 +(y-1.5)**2 < 0.25**2:\n",
    "        return 1.0\n",
    "    else:\n",
    "        return 0.0\n",
    "f_function_vec=np.vectorize(f_function,excluded=[0])\n",
    "u0_vec=np.vectorize(u0)\n",
    "dt=0.01\n",
    "T_fin=10.0\n",
    "heat_solver=Heat_Equation_Solver(node_coordinates,connection_table,dirichlet_nodes,u0_vec,dt,T_fin,f_function_vec)"
   ]
  },
  {
   "cell_type": "code",
   "execution_count": 51,
   "metadata": {},
   "outputs": [],
   "source": [
    "solution=heat_solver.solve()"
   ]
  },
  {
   "cell_type": "code",
   "execution_count": 52,
   "metadata": {},
   "outputs": [
    {
     "name": "stderr",
     "output_type": "stream",
     "text": [
      "/tmp/ipykernel_2483/3893429403.py:1: DeprecationWarning: Delaunay attribute 'vertices' is deprecated in favour of 'simplices' and will be removed in Scipy 1.11.0.\n",
      "  heat_solver.plot_solution(solution)\n"
     ]
    },
    {
     "data": {
      "text/plain": [
       "<matplotlib.widgets.Slider at 0x7f2b57b2b700>"
      ]
     },
     "execution_count": 52,
     "metadata": {},
     "output_type": "execute_result"
    }
   ],
   "source": [
    "heat_solver.plot_solution(solution)"
   ]
  },
  {
   "cell_type": "code",
   "execution_count": null,
   "metadata": {},
   "outputs": [],
   "source": []
  },
  {
   "cell_type": "code",
   "execution_count": 17,
   "metadata": {},
   "outputs": [
    {
     "data": {
      "text/plain": [
       "2.1907774608429974e-43"
      ]
     },
     "execution_count": 17,
     "metadata": {},
     "output_type": "execute_result"
    }
   ],
   "source": [
    "np.max(solution[-10])"
   ]
  }
 ],
 "metadata": {
  "kernelspec": {
   "display_name": "Python 3",
   "language": "python",
   "name": "python3"
  },
  "language_info": {
   "codemirror_mode": {
    "name": "ipython",
    "version": 3
   },
   "file_extension": ".py",
   "mimetype": "text/x-python",
   "name": "python",
   "nbconvert_exporter": "python",
   "pygments_lexer": "ipython3",
   "version": "3.8.10"
  },
  "orig_nbformat": 4
 },
 "nbformat": 4,
 "nbformat_minor": 2
}
