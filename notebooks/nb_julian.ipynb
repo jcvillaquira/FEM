{
 "cells": [
  {
   "cell_type": "code",
   "execution_count": null,
   "metadata": {},
   "outputs": [],
   "source": [
    "%load_ext autoreload\n",
    "%autoreload 2"
   ]
  },
  {
   "cell_type": "code",
   "execution_count": null,
   "metadata": {},
   "outputs": [],
   "source": [
    "\n",
    "import os\n",
    "import numpy as np\n",
    "# os.chdir('/home/julian/Personal/FEM/')"
   ]
  },
  {
   "cell_type": "code",
   "execution_count": null,
   "metadata": {},
   "outputs": [],
   "source": [
    "from src.mesh import read_msh\n",
    "from src.quadrature import *\n",
    "from src.finite_elements import FEM_Equation_Solver"
   ]
  },
  {
   "cell_type": "code",
   "execution_count": null,
   "id": "2e53e5ad",
   "metadata": {
    "lines_to_next_cell": 2
   },
   "outputs": [],
   "source": [
    "node_coordinates, connection_table = read_msh('data/L2.msh')\n",
    "fem_solver = FEM_Equation_Solver(node_coordinates, connection_table)"
   ]
  }
 ],
 "metadata": {
  "kernelspec": {
   "display_name": "Ecopetrol",
   "language": "python",
   "name": "python3"
  },
  "language_info": {
   "codemirror_mode": {
    "name": "ipython",
    "version": 3
   },
   "file_extension": ".py",
   "mimetype": "text/x-python",
   "name": "python",
   "nbconvert_exporter": "python",
   "pygments_lexer": "ipython3",
   "version": "3.10.8"
  }
 },
 "nbformat": 4,
 "nbformat_minor": 2
}
