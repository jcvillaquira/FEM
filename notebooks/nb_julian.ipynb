{
 "cells": [
  {
   "cell_type": "code",
   "execution_count": null,
   "metadata": {},
   "outputs": [],
   "source": [
    "%load_ext autoreload\n",
    "%autoreload 2"
   ]
  },
  {
   "cell_type": "code",
   "execution_count": null,
   "metadata": {},
   "outputs": [],
   "source": [
    "import os\n",
    "import numpy as np\n",
    "import scipy as sp\n",
    "os.chdir('/home/julian/Personal/FEM/')"
   ]
  },
  {
   "cell_type": "code",
   "execution_count": null,
   "metadata": {},
   "outputs": [],
   "source": [
    "from src.mesh import read_msh\n",
    "from src.quadrature import *\n",
    "from src.finite_elements import FEM_Equation_Solver"
   ]
  },
  {
   "cell_type": "code",
   "execution_count": null,
   "id": "c677347b",
   "metadata": {},
   "outputs": [],
   "source": [
    "node_coordinates, connection_table, dirichlet_nodes = read_msh('data/L2.msh')"
   ]
  },
  {
   "cell_type": "code",
   "execution_count": null,
   "id": "da14bee0",
   "metadata": {},
   "outputs": [],
   "source": [
    "x1 = 1.0\n",
    "y1 = 1.0\n",
    "x_coordinates = node_coordinates[:, 0]\n",
    "y_coordinates = node_coordinates[:, 1]\n",
    "not_boundary = (x_coordinates == x1) & (y_coordinates < y1) & (y_coordinates > 0.0)\n",
    "not_boundary_idx = set(np.array(range(len(not_boundary)))[not_boundary])\n",
    "dirichlet_nodes_modified = set(dirichlet_nodes) - not_boundary_idx"
   ]
  },
  {
   "cell_type": "code",
   "execution_count": null,
   "id": "2e53e5ad",
   "metadata": {},
   "outputs": [],
   "source": [
    "fem_solver = FEM_Equation_Solver(node_coordinates,\n",
    "                                 connection_table, \n",
    "                                 dirichlet_nodes_modified)"
   ]
  },
  {
   "cell_type": "code",
   "execution_count": null,
   "id": "62ac6127",
   "metadata": {},
   "outputs": [],
   "source": [
    "mat,b=fem_solver.assembly_stiffness_matrix_and_load_vector()\n",
    "Zs=sp.sparse.linalg.spsolve(mat,b)"
   ]
  },
  {
   "cell_type": "code",
   "execution_count": null,
   "id": "36603f27",
   "metadata": {},
   "outputs": [],
   "source": [
    "fem_solver.plot_solution(Zs)"
   ]
  },
  {
   "cell_type": "code",
   "execution_count": null,
   "id": "7b53146d",
   "metadata": {},
   "outputs": [],
   "source": [
    "A=mat.toarray()"
   ]
  },
  {
   "cell_type": "code",
   "execution_count": null,
   "id": "5399bae9",
   "metadata": {},
   "outputs": [],
   "source": [
    "A[9]"
   ]
  },
  {
   "cell_type": "code",
   "execution_count": null,
   "id": "8822f2fe",
   "metadata": {},
   "outputs": [],
   "source": [
    "b"
   ]
  },
  {
   "cell_type": "code",
   "execution_count": null,
   "id": "d0bfcb97",
   "metadata": {},
   "outputs": [],
   "source": [
    "plt.spy(mat)"
   ]
  },
  {
   "cell_type": "code",
   "execution_count": null,
   "id": "24a5b9c7",
   "metadata": {},
   "outputs": [],
   "source": [
    "np.max(b)"
   ]
  },
  {
   "cell_type": "code",
   "execution_count": null,
   "id": "4c303d77",
   "metadata": {},
   "outputs": [],
   "source": [
    "sp.sparse.linalg.spsolve(A,b)"
   ]
  },
  {
   "cell_type": "code",
   "execution_count": null,
   "id": "9b05a7da",
   "metadata": {},
   "outputs": [],
   "source": [
    "np.linalg.solve(A, b)"
   ]
  }
 ],
 "metadata": {
  "kernelspec": {
   "display_name": "Ecopetrol",
   "language": "python",
   "name": "python3"
  },
  "language_info": {
   "codemirror_mode": {
    "name": "ipython",
    "version": 3
   },
   "file_extension": ".py",
   "mimetype": "text/x-python",
   "name": "python",
   "nbconvert_exporter": "python",
   "pygments_lexer": "ipython3",
   "version": "3.10.8"
  }
 },
 "nbformat": 4,
 "nbformat_minor": 2
}
