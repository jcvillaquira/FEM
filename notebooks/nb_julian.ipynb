{
 "cells": [
  {
   "cell_type": "code",
   "execution_count": null,
   "metadata": {},
   "outputs": [],
   "source": [
    "%load_ext autoreload\n",
    "%autoreload 2"
   ]
  },
  {
   "cell_type": "code",
   "execution_count": null,
   "metadata": {},
   "outputs": [],
   "source": [
    "from src.mesh import read_msh\n",
    "from src.quadrature import *\n",
    "from src.finite_elements import *\n",
    "import numpy as np"
   ]
  },
  {
   "cell_type": "code",
   "execution_count": null,
   "metadata": {
    "lines_to_next_cell": 1
   },
   "outputs": [],
   "source": [
    "node_coordinates, connection_table = read_msh('data/L2.msh')\n",
    "\n",
    "# def get_basis_coefficients(n_coor):\n",
    "#     E = np.array([n_coor[:,0]**2,n_coor[:,0]*n_coor[:,1],n_coor[:,1]**2,n_coor[:,0],n_coor[:,1],np.ones(n_coor.shape[0])]).T\n",
    "#     return np.linalg.inv(E)\n",
    "# \n",
    "# def get_elemental_matrix(basis_coeff):\n",
    "#     A = np.zeros((6,6))"
   ]
  },
  {
   "cell_type": "code",
   "execution_count": null,
   "id": "2e53e5ad",
   "metadata": {
    "lines_to_next_cell": 3
   },
   "outputs": [],
   "source": [
    "node_coordinates, connection_table=read_msh('L2.msh')\n",
    "print(node_coordinates[0])"
   ]
  }
 ],
 "metadata": {
  "kernelspec": {
   "display_name": "Ecopetrol",
   "language": "python",
   "name": "python3"
  },
  "language_info": {
   "codemirror_mode": {
    "name": "ipython",
    "version": 3
   },
   "file_extension": ".py",
   "mimetype": "text/x-python",
   "name": "python",
   "nbconvert_exporter": "python",
   "pygments_lexer": "ipython3",
   "version": "3.10.8"
  }
 },
 "nbformat": 4,
 "nbformat_minor": 2
}
