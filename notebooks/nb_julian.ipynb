{
 "cells": [
  {
   "cell_type": "code",
   "execution_count": null,
   "metadata": {},
   "outputs": [],
   "source": [
    "%load_ext autoreload\n",
    "%autoreload 2"
   ]
  },
  {
   "cell_type": "code",
   "execution_count": null,
   "metadata": {},
   "outputs": [],
   "source": [
    "import os\n",
    "import numpy as np\n",
    "import scipy as sp\n",
    "os.chdir('/home/julian/Personal/FEM/')"
   ]
  },
  {
   "cell_type": "code",
   "execution_count": null,
   "metadata": {},
   "outputs": [],
   "source": [
    "from src.mesh import read_msh\n",
    "from src.quadrature import *\n",
    "from src.finite_elements import *"
   ]
  },
  {
   "cell_type": "code",
   "execution_count": null,
   "id": "c677347b",
   "metadata": {},
   "outputs": [],
   "source": [
    "node_coordinates, connection_table, dirichlet_nodes = read_msh('data/L2.msh')"
   ]
  },
  {
   "cell_type": "code",
   "execution_count": null,
   "id": "da14bee0",
   "metadata": {
    "lines_to_next_cell": 1
   },
   "outputs": [],
   "source": [
    "x1 = 1.0\n",
    "y1 = 1.0\n",
    "x_coordinates = node_coordinates[:, 0]\n",
    "y_coordinates = node_coordinates[:, 1]\n",
    "not_boundary = (x_coordinates == x1) & (y_coordinates < y1) & (y_coordinates > 0.0)\n",
    "not_boundary_idx = set(np.array(range(len(not_boundary)))[not_boundary])\n",
    "dirichlet_nodes_modified = set(dirichlet_nodes) - not_boundary_idx"
   ]
  },
  {
   "cell_type": "code",
   "execution_count": null,
   "id": "405ac4e8",
   "metadata": {
    "lines_to_next_cell": 1
   },
   "outputs": [],
   "source": [
    "def u0(x,y):\n",
    "    if (x-0.5)**2 +(y-1.5)**2 < 0.25**2:\n",
    "        return 1.0\n",
    "    else:\n",
    "        return 1.0\n",
    "def f_function(t,x,y):\n",
    "    #return 1.0\n",
    "    if (x-0.5)**2 +(y-1.5)**2 < 0.25**2:\n",
    "        return 0.0\n",
    "    else:\n",
    "        return 0.0"
   ]
  },
  {
   "cell_type": "code",
   "execution_count": null,
   "id": "2e53e5ad",
   "metadata": {},
   "outputs": [],
   "source": [
    "f_function_vec=np.vectorize(f_function,excluded=[0])\n",
    "u0_vec=np.vectorize(u0)\n",
    "dt=0.01\n",
    "T_fin=1.0\n",
    "heat_solver=Heat_Equation_Solver(node_coordinates,connection_table,dirichlet_nodes,u0_vec,dt,T_fin,f_function_vec)"
   ]
  },
  {
   "cell_type": "code",
   "execution_count": null,
   "id": "0ee50ceb",
   "metadata": {},
   "outputs": [],
   "source": [
    "solution=heat_solver.solve()"
   ]
  },
  {
   "cell_type": "code",
   "execution_count": null,
   "id": "743b8121",
   "metadata": {},
   "outputs": [],
   "source": [
    "heat_solver.fem_solver.plot_solution(solution[1])"
   ]
  },
  {
   "cell_type": "code",
   "execution_count": null,
   "id": "6bd1a56e",
   "metadata": {},
   "outputs": [],
   "source": [
    "heat_solver.plot_solution(solution)"
   ]
  },
  {
   "cell_type": "code",
   "execution_count": null,
   "id": "5f585b97",
   "metadata": {},
   "outputs": [],
   "source": [
    "np.max(solution[-1])"
   ]
  },
  {
   "cell_type": "code",
   "execution_count": null,
   "id": "62ac6127",
   "metadata": {},
   "outputs": [],
   "source": [
    "mat,b=fem_solver.assembly_stiffness_matrix_and_load_vector()\n",
    "Zs=sp.sparse.linalg.spsolve(mat,b)"
   ]
  },
  {
   "cell_type": "code",
   "execution_count": null,
   "id": "36603f27",
   "metadata": {},
   "outputs": [],
   "source": [
    "fem_solver.plot_solution(Zs)"
   ]
  },
  {
   "cell_type": "code",
   "execution_count": null,
   "id": "7b53146d",
   "metadata": {},
   "outputs": [],
   "source": [
    "A=mat.toarray()"
   ]
  },
  {
   "cell_type": "code",
   "execution_count": null,
   "id": "5399bae9",
   "metadata": {},
   "outputs": [],
   "source": [
    "A[9]"
   ]
  },
  {
   "cell_type": "code",
   "execution_count": null,
   "id": "8822f2fe",
   "metadata": {},
   "outputs": [],
   "source": [
    "b"
   ]
  },
  {
   "cell_type": "code",
   "execution_count": null,
   "id": "d0bfcb97",
   "metadata": {},
   "outputs": [],
   "source": [
    "plt.spy(mat)"
   ]
  },
  {
   "cell_type": "code",
   "execution_count": null,
   "id": "24a5b9c7",
   "metadata": {},
   "outputs": [],
   "source": [
    "np.max(b)"
   ]
  },
  {
   "cell_type": "code",
   "execution_count": null,
   "id": "4c303d77",
   "metadata": {},
   "outputs": [],
   "source": [
    "sp.sparse.linalg.spsolve(A,b)"
   ]
  },
  {
   "cell_type": "code",
   "execution_count": null,
   "id": "9b05a7da",
   "metadata": {
    "lines_to_next_cell": 2
   },
   "outputs": [],
   "source": [
    "np.linalg.solve(A, b)"
   ]
  }
 ],
 "metadata": {
  "kernelspec": {
   "display_name": "Ecopetrol",
   "language": "python",
   "name": "python3"
  },
  "language_info": {
   "codemirror_mode": {
    "name": "ipython",
    "version": 3
   },
   "file_extension": ".py",
   "mimetype": "text/x-python",
   "name": "python",
   "nbconvert_exporter": "python",
   "pygments_lexer": "ipython3",
   "version": "3.10.8"
  }
 },
 "nbformat": 4,
 "nbformat_minor": 2
}
